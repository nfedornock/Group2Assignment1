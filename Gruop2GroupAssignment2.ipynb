{
  "nbformat": 4,
  "nbformat_minor": 0,
  "metadata": {
    "colab": {
      "name": "Gruop2GroupAssignment2.ipynb",
      "provenance": [],
      "collapsed_sections": [],
      "include_colab_link": true
    },
    "kernelspec": {
      "name": "python3",
      "display_name": "Python 3"
    }
  },
  "cells": [
    {
      "cell_type": "markdown",
      "metadata": {
        "id": "view-in-github",
        "colab_type": "text"
      },
      "source": [
        "<a href=\"https://colab.research.google.com/github/nfedornock/Group2Assignment1/blob/master/Gruop2GroupAssignment2.ipynb\" target=\"_parent\"><img src=\"https://colab.research.google.com/assets/colab-badge.svg\" alt=\"Open In Colab\"/></a>"
      ]
    },
    {
      "cell_type": "markdown",
      "metadata": {
        "id": "kfzgwsb06hyR"
      },
      "source": [
        ""
      ]
    },
    {
      "cell_type": "markdown",
      "metadata": {
        "id": "80RRzYf15tU4"
      },
      "source": [
        "![ER Diagram](https://raw.githubusercontent.com/matthewg1234/Practice/master/Group%20Assignment%202.png)"
      ]
    },
    {
      "cell_type": "markdown",
      "metadata": {
        "id": "cFz12C7e6JC_"
      },
      "source": [
        "Our diagram is representing a food and item delivery service.  This is similar to a service such as UberEats, except we deliver for all items not just food.  We gave our driver a licenseID to sort them by.  The driver also has basic information about them such as: first and last name, car, and phone number. We realized that car is multivalued so we made it into its own table and put its attributes there. The Customer has a customerID that makes them unique.  They also have their attributes of: first and last name, address, and phone number.  We realized that address can have multiple components so we made another table for that with the attributes for address. We also have a table for items that has an itemID to make them unique.  The Payment entity has transactionID as its primary key.  Then there are the attributes relating to the payment.  We have trip be the center of the digram, because we felt that it is the best connector for them all and that the trip includes aspects of all of the other tables.  We have the connection for driver and trip, because takes cause driver takes trip.  We have the connection for items and trip, because items are delivered by the trip.  We have customer and trip connected by requests, because customer requests for a trip.  We have the payment and trip connected with requires, because the trip requires payment for it to happen.  We have customer and address connected, because a customer lives at an address.  We have driver and car connected with drives, because driver drives car. For our cardinalities, we thought of long term for the driver and customer, but in the moment for items, payment, car, and address because they don't have a long term to them."
      ]
    }
  ]
}